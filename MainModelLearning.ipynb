{
 "cells": [
  {
   "cell_type": "markdown",
   "metadata": {},
   "source": [
    "# COCO based object classification"
   ]
  },
  {
   "cell_type": "code",
   "execution_count": null,
   "metadata": {},
   "outputs": [],
   "source": [
    "from util.PreProcessing import filterDataset, dataGeneratorCoco\n",
    "from util.getModel import build_model\n",
    "from tensorflow.keras import models, losses\n",
    "\n",
    "## For visualizing results\n",
    "import matplotlib.pyplot as plt\n",
    "import matplotlib.gridspec as gridspec\n",
    "%matplotlib inline"
   ]
  },
  {
   "cell_type": "markdown",
   "metadata": {},
   "source": [
    "## Importing the Coco dataset, filtering and creating generator objects."
   ]
  },
  {
   "cell_type": "code",
   "execution_count": 5,
   "metadata": {},
   "outputs": [
    {
     "name": "stdout",
     "output_type": "stream",
     "text": [
      "loading annotations into memory...\n",
      "Done (t=21.02s)\n",
      "creating index...\n",
      "index created!\n",
      "loading annotations into memory...\n",
      "Done (t=0.69s)\n",
      "creating index...\n",
      "index created!\n"
     ]
    }
   ],
   "source": [
    "# Preprocessing arguments\n",
    "folder = 'D:/COCOdata'\n",
    "classes = ['cat', 'dog', 'horse']\n",
    "batch_size = 4\n",
    "input_image_size = (224,224)\n",
    "mask_type = 'normal'\n",
    "augGeneratorArgs = dict(featurewise_center = False, \n",
    "                        samplewise_center = False,\n",
    "                        rotation_range = 5, \n",
    "                        width_shift_range = 0.01, \n",
    "                        height_shift_range = 0.01, \n",
    "                        brightness_range = (0.8,1.2),\n",
    "                        shear_range = 0.01,\n",
    "                        zoom_range = [1, 1.25],  \n",
    "                        horizontal_flip = True, \n",
    "                        vertical_flip = False,\n",
    "                        fill_mode = 'reflect',\n",
    "                        data_format = 'channels_last')\n",
    "\n",
    "# -> Create filtered train dataset (using filterDataset())\n",
    "images_t, labels_t, dataset_size_t, coco_t = filterDataset(folder, classes,  mode='train2017')\n",
    "# -> Create train generator (using dataGeneratorCoco())\n",
    "train_gen = dataGeneratorCoco(images_t, labels_t, coco_t, folder,\n",
    "                              input_image_size, batch_size, mode=\"train2017\")\n",
    "#train_gen_aug = augmentationsGenerator(train_gen, augGeneratorArgs)\n",
    "\n",
    "\n",
    "# -> Create filtered val dataset (using filterDataset()) \n",
    "images_v, labels_v, dataset_size_v, coco_v = filterDataset(folder, classes,  mode='val2017')\n",
    "# -> Create val generator (using dataGeneratorCoco()) \n",
    "mode=\"val2017\";\n",
    "val_gen = dataGeneratorCoco(images_v, labels_v, coco_v, folder,\n",
    "                            input_image_size, batch_size, mode)\n",
    "# val_gen_aug = augmentationsGenerator(val_gen, augGeneratorArgs) # <-- fix this later"
   ]
  },
  {
   "cell_type": "markdown",
   "metadata": {},
   "source": [
    "## Building a model, training and evaluating it."
   ]
  },
  {
   "cell_type": "code",
   "execution_count": 19,
   "metadata": {},
   "outputs": [
    {
     "name": "stdout",
     "output_type": "stream",
     "text": [
      "(224, 224, 3)\n",
      "Model: \"VGG19_U-Net\"\n",
      "_________________________________________________________________\n",
      " Layer (type)                Output Shape              Param #   \n",
      "=================================================================\n",
      " input_10 (InputLayer)       [(None, 224, 224, 3)]     0         \n",
      "                                                                 \n",
      " block1_conv1 (Conv2D)       (None, 224, 224, 64)      1792      \n",
      "                                                                 \n",
      " block1_conv2 (Conv2D)       (None, 224, 224, 64)      36928     \n",
      "                                                                 \n",
      " block1_pool (MaxPooling2D)  (None, 112, 112, 64)      0         \n",
      "                                                                 \n",
      " block2_conv1 (Conv2D)       (None, 112, 112, 128)     73856     \n",
      "                                                                 \n",
      " block2_conv2 (Conv2D)       (None, 112, 112, 128)     147584    \n",
      "                                                                 \n",
      " block2_pool (MaxPooling2D)  (None, 56, 56, 128)       0         \n",
      "                                                                 \n",
      " block3_conv1 (Conv2D)       (None, 56, 56, 256)       295168    \n",
      "                                                                 \n",
      " block3_conv2 (Conv2D)       (None, 56, 56, 256)       590080    \n",
      "                                                                 \n",
      " block3_conv3 (Conv2D)       (None, 56, 56, 256)       590080    \n",
      "                                                                 \n",
      " block3_conv4 (Conv2D)       (None, 56, 56, 256)       590080    \n",
      "                                                                 \n",
      " block3_pool (MaxPooling2D)  (None, 28, 28, 256)       0         \n",
      "                                                                 \n",
      " block4_conv1 (Conv2D)       (None, 28, 28, 512)       1180160   \n",
      "                                                                 \n",
      " block4_conv2 (Conv2D)       (None, 28, 28, 512)       2359808   \n",
      "                                                                 \n",
      " block4_conv3 (Conv2D)       (None, 28, 28, 512)       2359808   \n",
      "                                                                 \n",
      " block4_conv4 (Conv2D)       (None, 28, 28, 512)       2359808   \n",
      "                                                                 \n",
      " block4_pool (MaxPooling2D)  (None, 14, 14, 512)       0         \n",
      "                                                                 \n",
      " block5_conv1 (Conv2D)       (None, 14, 14, 512)       2359808   \n",
      "                                                                 \n",
      " block5_conv2 (Conv2D)       (None, 14, 14, 512)       2359808   \n",
      "                                                                 \n",
      " block5_conv3 (Conv2D)       (None, 14, 14, 512)       2359808   \n",
      "                                                                 \n",
      " block5_conv4 (Conv2D)       (None, 14, 14, 512)       2359808   \n",
      "                                                                 \n",
      " block5_pool (MaxPooling2D)  (None, 7, 7, 512)         0         \n",
      "                                                                 \n",
      " flatten_9 (Flatten)         (None, 25088)             0         \n",
      "                                                                 \n",
      " dense_9 (Dense)             (None, 3)                 75267     \n",
      "                                                                 \n",
      "=================================================================\n",
      "Total params: 20,099,651\n",
      "Trainable params: 75,267\n",
      "Non-trainable params: 20,024,384\n",
      "_________________________________________________________________\n"
     ]
    }
   ],
   "source": [
    "inputshape = input_image_size + tuple([3]) # three colours means three dimentions\n",
    "nr_of_classes = len(classes)\n",
    "\n",
    "model = build_model(inputshape, nr_of_classes)\n",
    "\n",
    "model.summary()"
   ]
  },
  {
   "cell_type": "code",
   "execution_count": 16,
   "metadata": {},
   "outputs": [],
   "source": [
    "opt = 'adam'\n",
    "lossFn = losses.CategoricalCrossentropy(from_logits=True) \n",
    "\n",
    "# Compile your model first\n",
    "model.compile(loss = lossFn, optimizer = opt, metrics=['accuracy'])"
   ]
  },
  {
   "cell_type": "code",
   "execution_count": 21,
   "metadata": {},
   "outputs": [
    {
     "name": "stdout",
     "output_type": "stream",
     "text": [
      "Epoch 1/4\n",
      "2779/2779 [==============================] - 3344s 1s/step - loss: 1.6099 - accuracy: 0.6250 - val_loss: 1.2113 - val_accuracy: 0.6949\n",
      "Epoch 2/4\n",
      "2779/2779 [==============================] - 2970s 1s/step - loss: 1.2370 - accuracy: 0.7147 - val_loss: 1.8945 - val_accuracy: 0.5953\n",
      "Epoch 3/4\n",
      "2779/2779 [==============================] - 2873s 1s/step - loss: 0.9524 - accuracy: 0.7687 - val_loss: 2.4054 - val_accuracy: 0.6568\n",
      "Epoch 4/4\n",
      "2779/2779 [==============================] - 2857s 1s/step - loss: 0.8635 - accuracy: 0.7970 - val_loss: 1.8489 - val_accuracy: 0.6525\n"
     ]
    }
   ],
   "source": [
    "# Start the training process\n",
    "history = model.fit(x = train_gen,\n",
    "                validation_data = val_gen,\n",
    "                steps_per_epoch = steps_per_epoch,\n",
    "                validation_steps = validation_steps,\n",
    "                epochs = n_epochs,\n",
    "                verbose = True)"
   ]
  },
  {
   "cell_type": "code",
   "execution_count": 23,
   "metadata": {},
   "outputs": [
    {
     "name": "stdout",
     "output_type": "stream",
     "text": [
      "INFO:tensorflow:Assets written to: models/VGG19-Imagenet-14122021\\assets\n"
     ]
    }
   ],
   "source": [
    "# Save the model architecture, weights, optimizer and loss metrics\n",
    "model.save(\"models/VGG19-Imagenet-14122021\")"
   ]
  },
  {
   "cell_type": "markdown",
   "metadata": {},
   "source": [
    "#### Tip:\n",
    "You can create a separate .py file (say cocoFunctions.py) and copy the code for the imports, filterDataset function, and dataGeneratorCoco + supporting functions. This will help make the code more systematic.\n",
    "\n",
    "You can then simply import the functions into any code by using:  \n",
    "from cocoFunctions import filterDataset, dataGeneratorCoco"
   ]
  }
 ],
 "metadata": {
  "kernelspec": {
   "display_name": "Python 3 (ipykernel)",
   "language": "python",
   "name": "python3"
  },
  "language_info": {
   "codemirror_mode": {
    "name": "ipython",
    "version": 3
   },
   "file_extension": ".py",
   "mimetype": "text/x-python",
   "name": "python",
   "nbconvert_exporter": "python",
   "pygments_lexer": "ipython3",
   "version": "3.9.7"
  }
 },
 "nbformat": 4,
 "nbformat_minor": 4
}
