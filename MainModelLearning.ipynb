{
 "cells": [
  {
   "cell_type": "markdown",
   "metadata": {},
   "source": [
    "# COCO based object classification"
   ]
  },
  {
   "cell_type": "code",
   "execution_count": 1,
   "metadata": {},
   "outputs": [],
   "source": [
    "from util.PreProcessing import filterDataset, dataGeneratorCoco\n",
    "from util.getModel import build_model\n",
    "from tensorflow.keras import models, losses\n",
    "\n",
    "## For visualizing results\n",
    "import matplotlib.pyplot as plt\n",
    "import matplotlib.gridspec as gridspec\n",
    "%matplotlib inline"
   ]
  },
  {
   "cell_type": "markdown",
   "metadata": {},
   "source": [
    "## Importing the Coco dataset, filtering and creating generator objects."
   ]
  },
  {
   "cell_type": "code",
   "execution_count": 2,
   "metadata": {},
   "outputs": [
    {
     "name": "stdout",
     "output_type": "stream",
     "text": [
      "loading annotations into memory...\n",
      "Done (t=22.17s)\n",
      "creating index...\n",
      "index created!\n",
      "loading annotations into memory...\n",
      "Done (t=0.68s)\n",
      "creating index...\n",
      "index created!\n"
     ]
    }
   ],
   "source": [
    "# Preprocessing arguments\n",
    "folder = 'D:/COCOdata'\n",
    "classes = ['cat', 'dog', 'horse']\n",
    "batch_size = 4\n",
    "input_image_size = (224,224)\n",
    "mask_type = 'normal'\n",
    "augGeneratorArgs = dict(featurewise_center = False, \n",
    "                        samplewise_center = False,\n",
    "                        rotation_range = 5, \n",
    "                        width_shift_range = 0.01, \n",
    "                        height_shift_range = 0.01, \n",
    "                        brightness_range = (0.8,1.2),\n",
    "                        shear_range = 0.01,\n",
    "                        zoom_range = [1, 1.25],  \n",
    "                        horizontal_flip = True, \n",
    "                        vertical_flip = False,\n",
    "                        fill_mode = 'reflect',\n",
    "                        data_format = 'channels_last')\n",
    "\n",
    "# -> Create filtered train dataset (using filterDataset())\n",
    "images_t, labels_t, dataset_size_t, coco_t = filterDataset(folder, classes,  mode='train2017')\n",
    "# -> Create train generator (using dataGeneratorCoco())\n",
    "train_gen = dataGeneratorCoco(images_t, labels_t, classes, coco_t, folder,\n",
    "                              input_image_size, batch_size, mode=\"train2017\")\n",
    "#train_gen_aug = augmentationsGenerator(train_gen, augGeneratorArgs)\n",
    "\n",
    "\n",
    "# -> Create filtered val dataset (using filterDataset()) \n",
    "images_v, labels_v, dataset_size_v, coco_v = filterDataset(folder, classes,  mode='val2017')\n",
    "# -> Create val generator (using dataGeneratorCoco()) \n",
    "mode=\"val2017\";\n",
    "val_gen = dataGeneratorCoco(images_v, labels_v, classes, coco_v, folder,\n",
    "                            input_image_size, batch_size, mode)\n",
    "# val_gen_aug = augmentationsGenerator(val_gen, augGeneratorArgs) # <-- fix this later\n",
    "\n",
    "n_epochs = 10\n",
    "\n",
    "steps_per_epoch = dataset_size_t // (n_epochs)\n",
    "validation_steps = dataset_size_v // (n_epochs)"
   ]
  },
  {
   "cell_type": "markdown",
   "metadata": {},
   "source": [
    "## Building a model, training and evaluating it."
   ]
  },
  {
   "cell_type": "code",
   "execution_count": 3,
   "metadata": {},
   "outputs": [
    {
     "name": "stdout",
     "output_type": "stream",
     "text": [
      "Model: \"Classifier\"\n",
      "_________________________________________________________________\n",
      " Layer (type)                Output Shape              Param #   \n",
      "=================================================================\n",
      " input_1 (InputLayer)        [(None, 224, 224, 3)]     0         \n",
      "                                                                 \n",
      " block1_conv1 (Conv2D)       (None, 224, 224, 64)      1792      \n",
      "                                                                 \n",
      " block1_conv2 (Conv2D)       (None, 224, 224, 64)      36928     \n",
      "                                                                 \n",
      " block1_pool (MaxPooling2D)  (None, 112, 112, 64)      0         \n",
      "                                                                 \n",
      " block2_conv1 (Conv2D)       (None, 112, 112, 128)     73856     \n",
      "                                                                 \n",
      " block2_conv2 (Conv2D)       (None, 112, 112, 128)     147584    \n",
      "                                                                 \n",
      " block2_pool (MaxPooling2D)  (None, 56, 56, 128)       0         \n",
      "                                                                 \n",
      " block3_conv1 (Conv2D)       (None, 56, 56, 256)       295168    \n",
      "                                                                 \n",
      " block3_conv2 (Conv2D)       (None, 56, 56, 256)       590080    \n",
      "                                                                 \n",
      " block3_conv3 (Conv2D)       (None, 56, 56, 256)       590080    \n",
      "                                                                 \n",
      " block3_conv4 (Conv2D)       (None, 56, 56, 256)       590080    \n",
      "                                                                 \n",
      " block3_pool (MaxPooling2D)  (None, 28, 28, 256)       0         \n",
      "                                                                 \n",
      " block4_conv1 (Conv2D)       (None, 28, 28, 512)       1180160   \n",
      "                                                                 \n",
      " block4_conv2 (Conv2D)       (None, 28, 28, 512)       2359808   \n",
      "                                                                 \n",
      " block4_conv3 (Conv2D)       (None, 28, 28, 512)       2359808   \n",
      "                                                                 \n",
      " block4_conv4 (Conv2D)       (None, 28, 28, 512)       2359808   \n",
      "                                                                 \n",
      " block4_pool (MaxPooling2D)  (None, 14, 14, 512)       0         \n",
      "                                                                 \n",
      " block5_conv1 (Conv2D)       (None, 14, 14, 512)       2359808   \n",
      "                                                                 \n",
      " block5_conv2 (Conv2D)       (None, 14, 14, 512)       2359808   \n",
      "                                                                 \n",
      " block5_conv3 (Conv2D)       (None, 14, 14, 512)       2359808   \n",
      "                                                                 \n",
      " block5_conv4 (Conv2D)       (None, 14, 14, 512)       2359808   \n",
      "                                                                 \n",
      " block5_pool (MaxPooling2D)  (None, 7, 7, 512)         0         \n",
      "                                                                 \n",
      " flatten (Flatten)           (None, 25088)             0         \n",
      "                                                                 \n",
      " dense (Dense)               (None, 3)                 75267     \n",
      "                                                                 \n",
      "=================================================================\n",
      "Total params: 20,099,651\n",
      "Trainable params: 75,267\n",
      "Non-trainable params: 20,024,384\n",
      "_________________________________________________________________\n"
     ]
    }
   ],
   "source": [
    "inputshape = input_image_size + tuple([3]) # three colours means three dimentions\n",
    "nr_of_classes = len(classes)\n",
    "\n",
    "model = build_model(inputshape, nr_of_classes)\n",
    "\n",
    "model.summary()"
   ]
  },
  {
   "cell_type": "code",
   "execution_count": 4,
   "metadata": {},
   "outputs": [],
   "source": [
    "opt = 'adam'\n",
    "lossFn = losses.CategoricalCrossentropy(from_logits=True) \n",
    "\n",
    "# Compile your model first\n",
    "model.compile(loss = lossFn, optimizer = opt, metrics=['accuracy'])"
   ]
  },
  {
   "cell_type": "code",
   "execution_count": 5,
   "metadata": {},
   "outputs": [
    {
     "name": "stdout",
     "output_type": "stream",
     "text": [
      "Epoch 1/10\n"
     ]
    },
    {
     "name": "stderr",
     "output_type": "stream",
     "text": [
      "C:\\Users\\David\\anaconda3\\lib\\site-packages\\tensorflow\\python\\util\\dispatch.py:1096: UserWarning: \"`categorical_crossentropy` received `from_logits=True`, but the `output` argument was produced by a sigmoid or softmax activation and thus does not represent logits. Was this intended?\"\n",
      "  return dispatch_target(*args, **kwargs)\n"
     ]
    },
    {
     "name": "stdout",
     "output_type": "stream",
     "text": [
      "111/111 [==============================] - 112s 1s/step - loss: 1.3748 - accuracy: 0.5315 - val_loss: 0.9100 - val_accuracy: 0.5625\n",
      "Epoch 2/10\n",
      "111/111 [==============================] - 111s 999ms/step - loss: 1.5644 - accuracy: 0.5495 - val_loss: 0.9846 - val_accuracy: 0.5000\n",
      "Epoch 3/10\n",
      "111/111 [==============================] - 118s 1s/step - loss: 1.4857 - accuracy: 0.5743 - val_loss: 1.1445 - val_accuracy: 0.5625\n",
      "Epoch 4/10\n",
      "111/111 [==============================] - 119s 1s/step - loss: 1.7064 - accuracy: 0.5721 - val_loss: 1.0293 - val_accuracy: 0.7500\n",
      "Epoch 5/10\n",
      "111/111 [==============================] - 119s 1s/step - loss: 1.7421 - accuracy: 0.5653 - val_loss: 2.0840 - val_accuracy: 0.4375\n",
      "Epoch 6/10\n",
      "111/111 [==============================] - 117s 1s/step - loss: 1.4810 - accuracy: 0.5743 - val_loss: 1.3312 - val_accuracy: 0.6875\n",
      "Epoch 7/10\n",
      "111/111 [==============================] - 121s 1s/step - loss: 1.5361 - accuracy: 0.5833 - val_loss: 1.0019 - val_accuracy: 0.6875\n",
      "Epoch 8/10\n",
      "111/111 [==============================] - 127s 1s/step - loss: 1.5352 - accuracy: 0.6441 - val_loss: 1.8219 - val_accuracy: 0.5625\n",
      "Epoch 9/10\n",
      "111/111 [==============================] - 127s 1s/step - loss: 1.7843 - accuracy: 0.5766 - val_loss: 6.6258 - val_accuracy: 0.1875\n",
      "Epoch 10/10\n",
      "111/111 [==============================] - 128s 1s/step - loss: 1.7841 - accuracy: 0.6171 - val_loss: 1.7680 - val_accuracy: 0.4375\n"
     ]
    }
   ],
   "source": [
    "# Start the training process\n",
    "hist = model.fit(x = train_gen,\n",
    "                validation_data = val_gen,\n",
    "                steps_per_epoch = steps_per_epoch,\n",
    "                validation_steps = validation_steps,\n",
    "                epochs = n_epochs,\n",
    "                verbose = True)"
   ]
  },
  {
   "cell_type": "code",
   "execution_count": 6,
   "metadata": {},
   "outputs": [
    {
     "name": "stdout",
     "output_type": "stream",
     "text": [
      "INFO:tensorflow:Assets written to: models/VGG19-Imagenet-15122021\\assets\n"
     ]
    }
   ],
   "source": [
    "# Save the model architecture, weights, optimizer and loss metrics\n",
    "model.save(\"models/VGG19-Imagenet-15122021\")"
   ]
  },
  {
   "cell_type": "code",
   "execution_count": 8,
   "metadata": {},
   "outputs": [
    {
     "data": {
      "image/png": "[encoded data removed]",
      "text/plain": [
       "<Figure size 432x288 with 1 Axes>"
      ]
     },
     "metadata": {
      "needs_background": "light"
     },
     "output_type": "display_data"
    }
   ],
   "source": [
    "#model1 = models.load_model(\"models/VGG19-Imagenet-14122021\")\n",
    "plt.plot(hist.history[\"accuracy\"])\n",
    "plt.title(\"model accuracy\")\n",
    "plt.ylabel(\"Accuracy\")\n",
    "plt.xlabel(\"Epoch\")\n",
    "plt.show()"
   ]
  },
  {
   "cell_type": "markdown",
   "metadata": {},
   "source": [
    "#### Tip:\n",
    "You can create a separate .py file (say cocoFunctions.py) and copy the code for the imports, filterDataset function, and dataGeneratorCoco + supporting functions. This will help make the code more systematic.\n",
    "\n",
    "You can then simply import the functions into any code by using:  \n",
    "from cocoFunctions import filterDataset, dataGeneratorCoco"
   ]
  }
 ],
 "metadata": {
  "kernelspec": {
   "display_name": "Python 3 (ipykernel)",
   "language": "python",
   "name": "python3"
  },
  "language_info": {
   "codemirror_mode": {
    "name": "ipython",
    "version": 3
   },
   "file_extension": ".py",
   "mimetype": "text/x-python",
   "name": "python",
   "nbconvert_exporter": "python",
   "pygments_lexer": "ipython3",
   "version": "3.9.7"
  }
 },
 "nbformat": 4,
 "nbformat_minor": 4
}
