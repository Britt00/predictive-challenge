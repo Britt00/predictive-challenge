{
 "cells": [
  {
   "cell_type": "markdown",
   "id": "0e6a831d",
   "metadata": {},
   "source": [
    "# Data exploration\n",
    "This script is a slight insight into the dataset itself\n",
    "\n",
    "First of all, we import the data"
   ]
  },
  {
   "cell_type": "code",
   "execution_count": 2,
   "id": "d9a0fde2",
   "metadata": {},
   "outputs": [],
   "source": [
    "#Import block\n",
    "import numpy as np\n",
    "import matplotlib.pyplot as plt\n",
    "import pandas as pd"
   ]
  },
  {
   "cell_type": "code",
   "execution_count": 15,
   "id": "a137ef86",
   "metadata": {},
   "outputs": [
    {
     "name": "stdout",
     "output_type": "stream",
     "text": [
      "present labels are: [b'airplane', b'automobile', b'bird', b'cat', b'deer', b'dog', b'frog', b'horse', b'ship', b'truck'] \n",
      "\n",
      "example of a single data is \n",
      "[ 59  43  50 ... 140  84  72]\n"
     ]
    }
   ],
   "source": [
    "def unpickle(file):\n",
    "    import pickle\n",
    "    with open(file, 'rb') as fo:\n",
    "        dict = pickle.load(fo, encoding='bytes')\n",
    "    return dict\n",
    "\n",
    "CIFAR10_1 = unpickle(\"data/cifar-10-python/data_batch_1\")\n",
    "metadata  = unpickle(\"data/cifar-10-python/batches.meta\")\n",
    "\n",
    "print(\"present labels are:\", metadata[b'label_names'], \"\\n\")\n",
    "\n",
    "print(\"example of a single data is \")\n",
    "print(CIFAR10_1[b'data'][0])"
   ]
  }
 ],
 "metadata": {
  "kernelspec": {
   "display_name": "Python 3 (ipykernel)",
   "language": "python",
   "name": "python3"
  },
  "language_info": {
   "codemirror_mode": {
    "name": "ipython",
    "version": 3
   },
   "file_extension": ".py",
   "mimetype": "text/x-python",
   "name": "python",
   "nbconvert_exporter": "python",
   "pygments_lexer": "ipython3",
   "version": "3.8.2"
  }
 },
 "nbformat": 4,
 "nbformat_minor": 5
}
